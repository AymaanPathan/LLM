{
 "cells": [
  {
   "cell_type": "markdown",
   "id": "fe12c203-e6a6-452c-a655-afb8a03a4ff5",
   "metadata": {},
   "source": [
    "# End of week 1 exercise\n",
    "\n",
    "To demonstrate your familiarity with OpenAI API, and also Ollama, build a tool that takes a technical question,  \n",
    "and responds with an explanation. This is a tool that you will be able to use yourself during the course!"
   ]
  },
  {
   "cell_type": "code",
   "execution_count": 1,
   "id": "c1070317-3ed9-4659-abe3-828943230e03",
   "metadata": {},
   "outputs": [],
   "source": [
    "# imports\n",
    "from ollama import chat"
   ]
  },
  {
   "cell_type": "code",
   "execution_count": 8,
   "id": "4a456906-915a-4bfd-bb9d-57e505c5093f",
   "metadata": {},
   "outputs": [],
   "source": [
    "# constants\n",
    "\n",
    "MODEL='deepseek-r1:1.5b'"
   ]
  },
  {
   "cell_type": "code",
   "execution_count": 9,
   "id": "a8d7923c-5f28-4c30-8556-342d7c8497c1",
   "metadata": {},
   "outputs": [],
   "source": [
    "# set up environment"
   ]
  },
  {
   "cell_type": "code",
   "execution_count": 10,
   "id": "3f0d0137-52b0-47a8-81a8-11a90a010798",
   "metadata": {},
   "outputs": [],
   "source": [
    "# here is the question; type over this to ask something new\n",
    "\n",
    "question = \"\"\"\n",
    "Please explain what this code does and why:\n",
    "yield from {book.get(\"author\") for book in books if book.get(\"author\")}\n",
    "\"\"\""
   ]
  },
  {
   "cell_type": "code",
   "execution_count": null,
   "id": "5cb3a3d2-9d94-4815-8a97-369983798a5c",
   "metadata": {},
   "outputs": [],
   "source": [
    "system_Prompt =  \"\""
   ]
  },
  {
   "cell_type": "code",
   "execution_count": 12,
   "id": "60ce7000-a4a5-4cce-a261-e75ef45063b4",
   "metadata": {},
   "outputs": [
    {
     "name": "stdout",
     "output_type": "stream",
     "text": [
      "<think>\n",
      "Okay, so I'm trying to understand this piece of Python code. The line in question is: yield from {book.get(\"author\") for book in books if book.get(\"author\")}.\n",
      "\n",
      "First, let me break it down step by step. I know that the `yield from` keyword is used with generators or async functions. It takes a generator expression and yields each value as soon as it's computed.\n",
      "\n",
      "Looking at the code inside the yield from block: {book.get(\"author\") for book in books if book.get(\"author\"). So, this is a generator expression that uses a walrus operator to fetch \"author\" from each book in the `books` list. \n",
      "\n",
      "Wait, but using a walrus operator like `get(\"author\")` inside an expression might not be the best approach because of Python's scoping rules. I remember that if you try to use `get()` within another data structure, it can cause issues with variable shadowing or unexpected behavior.\n",
      "\n",
      "Let me test this in my mind. If I have a generator expression: for book in books, yield book.get(\"author\"). That would work because each iteration yields the author from the current book. But here, it's inside an expression: {book.get(\"author\") for book in books if ...}. Wait, that can't be right because the walrus operator is trying to get \"author\" again, which might not have been set yet.\n",
      "\n",
      "Ah, I see! The walrus operator `:=` assigns a value. So in this case, it's trying to assign `get(\"author\")` and then use it in the generator expression. But if any of the books haven't been fetched yet, like if they don't have an author attribute, this will cause issues.\n",
      "\n",
      "Wait, but what if all the books are already loaded? If each book has a \"author\" field, then `book.get(\"author\")` would return that value correctly. So maybe the generator expression inside is trying to get the author for each book and yield it only if the author exists. But I'm not sure if that makes sense because yielding an object based on its existence could lead to unexpected results or exceptions.\n",
      "\n",
      "Another thing: using `yield from` with a generator expression that includes `get(\"author\")` in an inner expression might cause the walrus operator to shadow other variables, leading to incorrect values. It's better practice to avoid using the walrus operator inside expressions if you don't need it because it can lead to unexpected variable scoping issues.\n",
      "\n",
      "Also, I should consider whether this is part of a larger context, like processing books from an API or file. If `books` is a list of dictionaries where each has an \"author\" key, then this code would fetch the author for each book and yield them one by one. But if any book doesn't have an \"author\", it might raise an AttributeError.\n",
      "\n",
      "Wait, but in Python 3, when you use `for book in books`, the variable `books` is a list of dictionaries or objects with an \"author\" attribute. So inside the generator expression, `book.get(\"author\")` should work if each book has that key set.\n",
      "\n",
      "Putting it all together, this code takes the authors from each book and yields them one after another. It's using a generator to produce these values asynchronously as they are fetched from somewhere, perhaps through an API or a file read.\n",
      "\n",
      "But I'm not entirely sure about the exact use case here. The walrus operator might be complicating things unnecessarily. If it's just collecting all the authors at once and then yielding each one, maybe using `yield` instead of `yield from` would be clearer.\n",
      "\n",
      "Also, considering that the code is inside a generator expression with `for book in books`, if we're processing this as part of async function execution, `yield from` is appropriate because it's designed for asynchronous tasks. But again, using the walrus operator might not be the best approach here due to variable scoping.\n",
      "\n",
      "In summary, while I understand that the code retrieves the author from each book and yields them, there are potential issues with the use of the walrus operator within an expression, which could lead to bugs if variables aren't properly scoped. It's also worth considering whether this is necessary or if a simpler approach would suffice.\n",
      "</think>\n",
      "\n",
      "The provided Python code uses `yield from` with a generator expression that fetches \"author\" information from each book in a list called `books`. Here's a step-by-step explanation of what the code does and why it works:\n",
      "\n",
      "1. **Generator Expression**: The walrus operator (`:=`) is used inside a generator expression to yield values. This means that for each book, we are trying to fetch its \"author\" information.\n",
      "\n",
      "2. **Fetched Author**: Each book in `books` is accessed, and the \"author\" attribute is retrieved using `book.get(\"author\")`.\n",
      "\n",
      "3. **Yielding**: The retrieved author is then yielded by the generator expression. This means that each author is produced immediately as the generator expression completes its iteration over the books.\n",
      "\n",
      "4. **Use of yield from**: Since we are using a generator, this code will iterate through each book in `books`, collect their authors, and yield each one sequentially.\n",
      "\n",
      "**Why it works:**\n",
      "\n",
      "- The use of `yield from` is appropriate here because the code produces values (authors) as they are generated, which aligns with how generators work in Python.\n",
      "\n",
      "- However, using the walrus operator within a generator expression can lead to issues. Specifically, any variables used in an inner expression can shadow or cause unexpected behavior if not properly scoped. This might result in incorrect values being retrieved or potential exceptions if books don't have the \"author\" attribute set.\n",
      "\n",
      "**Potential Issues:**\n",
      "\n",
      "- **Variable Shadowing**: If `get(\"author\")` is used within another expression, it may shadow any global variables named `get`, leading to unintended results.\n",
      "\n",
      "- **Dependencies on Books**: The code assumes that each book in `books` has an \"author\" attribute. If not, this will raise an AttributeError or throw a warning when trying to access the attribute.\n",
      "\n",
      "**Conclusion:**\n",
      "\n",
      "The code correctly iterates through each book, fetches its author, and yields it as soon as possible due to Python's generator nature. While the use of the walrus operator is technically correct in this context, it may not be the best practice and could lead to confusion or bugs if not carefully managed. For better clarity, a simpler approach using `yield` instead of `yield from` might be more appropriate.\n"
     ]
    }
   ],
   "source": [
    "# Get gpt-4o-mini to answer, with streaming\n",
    "response = chat(model=MODEL, messages=[{\"role\":\"user\",\"content\":question}])\n",
    "print(response[\"message\"][\"content\"])"
   ]
  },
  {
   "cell_type": "code",
   "execution_count": null,
   "id": "8f7c8ea8-4082-4ad0-8751-3301adcf6538",
   "metadata": {},
   "outputs": [],
   "source": [
    "# Get Llama 3.2 to answer"
   ]
  }
 ],
 "metadata": {
  "kernelspec": {
   "display_name": "Python 3 (ipykernel)",
   "language": "python",
   "name": "python3"
  },
  "language_info": {
   "codemirror_mode": {
    "name": "ipython",
    "version": 3
   },
   "file_extension": ".py",
   "mimetype": "text/x-python",
   "name": "python",
   "nbconvert_exporter": "python",
   "pygments_lexer": "ipython3",
   "version": "3.11.12"
  }
 },
 "nbformat": 4,
 "nbformat_minor": 5
}
